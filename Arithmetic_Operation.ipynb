{
 "cells": [
  {
   "cell_type": "markdown",
   "id": "b18b56f6-7a42-4969-b9a4-eccf639af2d6",
   "metadata": {},
   "source": [
    "# Ex.No 1: Arithmetic Operations"
   ]
  },
  {
   "cell_type": "code",
   "execution_count": 2,
   "id": "767e6c5a-512a-4510-87e5-9e108ccfc8b2",
   "metadata": {},
   "outputs": [
    {
     "name": "stdout",
     "output_type": "stream",
     "text": [
      "Choice 1: Add, 2: Sub, 3: Div, 4: Mul, 5: Quit\n"
     ]
    },
    {
     "name": "stdin",
     "output_type": "stream",
     "text": [
      "Enter the choice of operation:  4\n"
     ]
    },
    {
     "name": "stdout",
     "output_type": "stream",
     "text": [
      "You have chosen multiplication Option:\n"
     ]
    },
    {
     "name": "stdin",
     "output_type": "stream",
     "text": [
      "Enter the value for A:  3\n",
      "Enter the value for B:  4\n"
     ]
    },
    {
     "name": "stdout",
     "output_type": "stream",
     "text": [
      "The Result 3 * 4 = 12\n"
     ]
    }
   ],
   "source": [
    "print(\"Choice 1: Add, 2: Sub, 3: Div, 4: Mul, 5: Quit\")\n",
    "n1 = input(\"Enter the choice of operation: \")\n",
    "n = int(n1)\n",
    "\n",
    "if n == 1:\n",
    "    print(\"You have chosen addition Option:\")\n",
    "    a1 = input(\"Enter the value for A: \")\n",
    "    b1 = input(\"Enter the value for B: \")\n",
    "    a = int(a1)\n",
    "    b = int(b1)\n",
    "    c = a + b\n",
    "    print(\"The Result\", a, \"+\", b, \"=\", c)\n",
    "\n",
    "elif n == 2:\n",
    "    print(\"You have chosen subtraction Option:\")\n",
    "    a1 = input(\"Enter the value for A: \")\n",
    "    b1 = input(\"Enter the value for B: \")\n",
    "    a = int(a1)\n",
    "    b = int(b1)\n",
    "    c = a - b\n",
    "    print(\"The Result\", a, \"-\", b, \"=\", c)\n",
    "\n",
    "elif n == 3:\n",
    "    print(\"You have chosen division Option:\")\n",
    "    a1 = input(\"Enter the value for A: \")\n",
    "    b1 = input(\"Enter the value for B: \")\n",
    "    a = int(a1)\n",
    "    b = int(b1)\n",
    "    if b != 0:\n",
    "        c = a / b\n",
    "        print(\"The Result\", a, \"/\", b, \"=\", c)\n",
    "    else:\n",
    "        print(\"Division by zero is not allowed.\")\n",
    "\n",
    "elif n == 4:\n",
    "    print(\"You have chosen multiplication Option:\")\n",
    "    a1 = input(\"Enter the value for A: \")\n",
    "    b1 = input(\"Enter the value for B: \")\n",
    "    a = int(a1)\n",
    "    b = int(b1)\n",
    "    c = a * b\n",
    "    print(\"The Result\", a, \"*\", b, \"=\", c)\n",
    "\n",
    "elif n == 5:\n",
    "    print(\"You have chosen to quit.\")\n",
    "    exit()\n",
    "\n",
    "else:\n",
    "    print(\"You have given an incorrect option:\", n)\n"
   ]
  }
 ],
 "metadata": {
  "kernelspec": {
   "display_name": "Python 3 (ipykernel)",
   "language": "python",
   "name": "python3"
  },
  "language_info": {
   "codemirror_mode": {
    "name": "ipython",
    "version": 3
   },
   "file_extension": ".py",
   "mimetype": "text/x-python",
   "name": "python",
   "nbconvert_exporter": "python",
   "pygments_lexer": "ipython3",
   "version": "3.12.1"
  }
 },
 "nbformat": 4,
 "nbformat_minor": 5
}
