{
 "cells": [
  {
   "cell_type": "markdown",
   "id": "70f62fc7-3d68-4f29-a4b7-b5f6ec88458f",
   "metadata": {},
   "source": [
    "# Ex.No 5: birthday Paradox"
   ]
  },
  {
   "cell_type": "code",
   "execution_count": 2,
   "id": "925c95b9-43d9-45e1-886c-a3bc67026012",
   "metadata": {},
   "outputs": [
    {
     "name": "stdout",
     "output_type": "stream",
     "text": [
      "1\n",
      "6\n",
      "8\n",
      "11\n",
      "35\n",
      "36\n",
      "39\n",
      "42\n",
      "45\n",
      "46\n",
      "47\n",
      "56\n",
      "64\n",
      "67\n",
      "71\n",
      "74\n",
      "80\n",
      "84\n",
      "89\n",
      "103\n",
      "104\n",
      "123\n",
      "127\n",
      "148\n",
      "156\n",
      "166\n",
      "166\n",
      "172\n",
      "198\n",
      "208\n",
      "217\n",
      "218\n",
      "223\n",
      "229\n",
      "236\n",
      "250\n",
      "259\n",
      "267\n",
      "277\n",
      "284\n",
      "285\n",
      "294\n",
      "312\n",
      "327\n",
      "329\n",
      "331\n",
      "335\n",
      "345\n",
      "351\n",
      "356\n"
     ]
    }
   ],
   "source": [
    "import random\n",
    "import datetime\n",
    "\n",
    "birthday = []\n",
    "i = 0\n",
    "\n",
    "while i < 50:\n",
    "    year = random.randint(1875, 2024)\n",
    "    \n",
    "    month = random.randint(1, 12)\n",
    "    \n",
    "    if month == 2:\n",
    "        if (year % 4 == 0 and (year % 100 != 0 or year % 400 == 0)):\n",
    "            day = random.randint(1, 29) \n",
    "        else:\n",
    "            day = random.randint(1, 28) \n",
    "    elif month in [4, 6, 9, 11]:\n",
    "        day = random.randint(1, 30)  \n",
    "    else:\n",
    "        day = random.randint(1, 31)  \n",
    "    \n",
    "    dd = datetime.date(year, month, day)\n",
    "    day_of_year = dd.timetuple().tm_yday\n",
    "    \n",
    "    birthday.append(day_of_year)\n",
    "    \n",
    "    i += 1\n",
    "\n",
    "# Sort and print the list of birthdays\n",
    "birthday.sort()\n",
    "for bday in birthday:\n",
    "    print(bday)\n"
   ]
  }
 ],
 "metadata": {
  "kernelspec": {
   "display_name": "Python 3 (ipykernel)",
   "language": "python",
   "name": "python3"
  },
  "language_info": {
   "codemirror_mode": {
    "name": "ipython",
    "version": 3
   },
   "file_extension": ".py",
   "mimetype": "text/x-python",
   "name": "python",
   "nbconvert_exporter": "python",
   "pygments_lexer": "ipython3",
   "version": "3.12.1"
  }
 },
 "nbformat": 4,
 "nbformat_minor": 5
}
