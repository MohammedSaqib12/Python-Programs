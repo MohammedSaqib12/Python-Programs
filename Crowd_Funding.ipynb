{
 "cells": [
  {
   "cell_type": "markdown",
   "id": "977e53f6-e097-4ba2-ac51-9123c6bcb020",
   "metadata": {},
   "source": [
    "# Ex.No 3: Crowd Funding"
   ]
  },
  {
   "cell_type": "code",
   "execution_count": 2,
   "id": "046a3d56-c106-4789-8e65-445e5c4f2af9",
   "metadata": {},
   "outputs": [
    {
     "name": "stdin",
     "output_type": "stream",
     "text": [
      "Enter no of Items:  10\n",
      "Enter item 1 cost:  89\n",
      "Enter item 2 cost:  12\n",
      "Enter item 3 cost:  34\n",
      "Enter item 4 cost:  66\n",
      "Enter item 5 cost:  54\n",
      "Enter item 6 cost:  90\n",
      "Enter item 7 cost:  78\n",
      "Enter item 8 cost:  68\n",
      "Enter item 9 cost:  1\n",
      "Enter item 10 cost:  26\n"
     ]
    },
    {
     "name": "stdout",
     "output_type": "stream",
     "text": [
      "[1, 12, 26, 34, 54, 66, 68, 78, 89, 90]\n",
      "1\n",
      "[12, 26, 34, 54, 66, 68, 78, 89]\n",
      "53.375\n"
     ]
    }
   ],
   "source": [
    "import statistics\n",
    "\n",
    "item_cost = []\n",
    "n = int(input(\"Enter no of Items: \"))\n",
    "for i in range(n):\n",
    "    item = int(input(f\"Enter item {i + 1} cost: \"))\n",
    "    item_cost.append(item)\n",
    "\n",
    "item_cost.sort()\n",
    "print(item_cost)\n",
    "\n",
    "items_to_remove = int(len(item_cost) * 0.1)\n",
    "print(items_to_remove)\n",
    "\n",
    "item_cost = item_cost[items_to_remove: -items_to_remove]\n",
    "print(item_cost)\n",
    "\n",
    "mean = statistics.mean(item_cost)\n",
    "print(mean)"
   ]
  }
 ],
 "metadata": {
  "kernelspec": {
   "display_name": "Python 3 (ipykernel)",
   "language": "python",
   "name": "python3"
  },
  "language_info": {
   "codemirror_mode": {
    "name": "ipython",
    "version": 3
   },
   "file_extension": ".py",
   "mimetype": "text/x-python",
   "name": "python",
   "nbconvert_exporter": "python",
   "pygments_lexer": "ipython3",
   "version": "3.12.1"
  }
 },
 "nbformat": 4,
 "nbformat_minor": 5
}
