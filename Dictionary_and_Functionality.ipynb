{
 "cells": [
  {
   "cell_type": "markdown",
   "id": "fb16e8ab-0fae-451a-a50b-483a57c2cf25",
   "metadata": {},
   "source": [
    "# Ex.No 8: Dictionary And Its Functionalities"
   ]
  },
  {
   "cell_type": "code",
   "execution_count": 2,
   "id": "046b1f8e-89cc-43fd-b7a1-21339d36ff77",
   "metadata": {},
   "outputs": [
    {
     "name": "stdout",
     "output_type": "stream",
     "text": [
      "Dictionary elements (unordered):\n",
      "integer: 10\n",
      "float: 20.5\n",
      "complex: (1+2j)\n",
      "boolean: True\n",
      "string: Hello\n",
      "list: [1, 2, 3]\n",
      "tuple: (4, 5, 6)\n",
      "\n",
      "Accessing elements:\n",
      "Integer: 10\n",
      "String: Hello\n",
      "List: [1, 2, 3]\n",
      "\n",
      "Looping through the dictionary:\n",
      "integer -> 10\n",
      "float -> 20.5\n",
      "complex -> (1+2j)\n",
      "boolean -> True\n",
      "string -> Hello\n",
      "list -> [1, 2, 3]\n",
      "tuple -> (4, 5, 6)\n",
      "\n",
      "Adding an element to the dictionary:\n",
      "Updated Dictionary: {'integer': 10, 'float': 20.5, 'complex': (1+2j), 'boolean': True, 'string': 'Hello', 'list': [1, 2, 3], 'tuple': (4, 5, 6), 'dict': {'1': 'a', '2': 'b'}}\n",
      "\n",
      "Removing an element from the dictionary:\n",
      "Updated Dictionary after removal: {'integer': 10, 'float': 20.5, 'complex': (1+2j), 'string': 'Hello', 'list': [1, 2, 3], 'tuple': (4, 5, 6), 'dict': {'1': 'a', '2': 'b'}}\n",
      "\n",
      "Second Dictionary: {'color': 'blue', 'shape': 'circle', 'size': 'large'}\n",
      "Joined Dictionary: {'integer': 10, 'float': 20.5, 'complex': (1+2j), 'string': 'Hello', 'list': [1, 2, 3], 'tuple': (4, 5, 6), 'dict': {'1': 'a', '2': 'b'}, 'color': 'blue', 'shape': 'circle', 'size': 'large'}\n"
     ]
    }
   ],
   "source": [
    "# 1. Creating a Dictionary\n",
    "my_dict = {\n",
    "    \"integer\": 10,\n",
    "    \"float\": 20.5,\n",
    "    \"complex\": 1 + 2j,\n",
    "    \"boolean\": True,\n",
    "    \"string\": \"Hello\",\n",
    "    \"list\": [1, 2, 3],\n",
    "    \"tuple\": (4, 5, 6),\n",
    "}\n",
    "\n",
    "# 2. Display of Unordered Elements\n",
    "print(\"Dictionary elements (unordered):\")\n",
    "for key, value in my_dict.items():\n",
    "    print(f\"{key}: {value}\")\n",
    "\n",
    "# 3. Accessing the Elements\n",
    "print(\"\\nAccessing elements:\")\n",
    "print(\"Integer:\", my_dict[\"integer\"])\n",
    "print(\"String:\", my_dict[\"string\"])\n",
    "print(\"List:\", my_dict[\"list\"])\n",
    "\n",
    "# 4. Use of Loop\n",
    "print(\"\\nLooping through the dictionary:\")\n",
    "for key in my_dict:\n",
    "    print(f\"{key} -> {my_dict[key]}\")\n",
    "\n",
    "# 5. Adding an Element to the Dictionary\n",
    "print(\"\\nAdding an element to the dictionary:\")\n",
    "my_dict[\"dict\"] = {\"1\": \"a\",\n",
    "                  \"2\": \"b\"}\n",
    "print(\"Updated Dictionary:\", my_dict)\n",
    "\n",
    "# 6. Removing an Element from the Dictionary\n",
    "print(\"\\nRemoving an element from the dictionary:\")\n",
    "del my_dict[\"boolean\"]\n",
    "print(\"Updated Dictionary after removal:\", my_dict)\n",
    "\n",
    "# 7. Joining Two Dictionaries\n",
    "second_dict = {\n",
    "    \"color\": \"blue\",\n",
    "    \"shape\": \"circle\",\n",
    "    \"size\": \"large\"\n",
    "}\n",
    "print(\"\\nSecond Dictionary:\", second_dict)\n",
    "\n",
    "# Joining two dictionaries\n",
    "joined_dict = {**my_dict, **second_dict}\n",
    "print(\"Joined Dictionary:\", joined_dict)\n"
   ]
  }
 ],
 "metadata": {
  "kernelspec": {
   "display_name": "Python 3 (ipykernel)",
   "language": "python",
   "name": "python3"
  },
  "language_info": {
   "codemirror_mode": {
    "name": "ipython",
    "version": 3
   },
   "file_extension": ".py",
   "mimetype": "text/x-python",
   "name": "python",
   "nbconvert_exporter": "python",
   "pygments_lexer": "ipython3",
   "version": "3.12.1"
  }
 },
 "nbformat": 4,
 "nbformat_minor": 5
}
