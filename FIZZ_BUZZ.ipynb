{
 "cells": [
  {
   "cell_type": "markdown",
   "id": "2d82867a-921c-4430-8fd0-2b6e25888060",
   "metadata": {},
   "source": [
    "# Ex.No 2b: FIZZ BUZZ GAME"
   ]
  },
  {
   "cell_type": "code",
   "execution_count": 2,
   "id": "a8a4f948-6330-4b8a-94cf-ea7c04101c08",
   "metadata": {},
   "outputs": [
    {
     "name": "stdout",
     "output_type": "stream",
     "text": [
      "Fizz Buzz Program:\n"
     ]
    },
    {
     "name": "stdin",
     "output_type": "stream",
     "text": [
      "Enter the number:  30\n"
     ]
    },
    {
     "name": "stdout",
     "output_type": "stream",
     "text": [
      "1\n",
      "2\n",
      "3 = Fizz\n",
      "4\n",
      "5 = Buzz\n",
      "6 = Fizz\n",
      "7\n",
      "8\n",
      "9 = Fizz\n",
      "10 = Buzz\n",
      "11\n",
      "12 = Fizz\n",
      "13\n",
      "14\n",
      "15 = Fizz Buzz\n",
      "16\n",
      "17\n",
      "18 = Fizz\n",
      "19\n",
      "20 = Buzz\n",
      "21 = Fizz\n",
      "22\n",
      "23\n",
      "24 = Fizz\n",
      "25 = Buzz\n",
      "26\n",
      "27 = Fizz\n",
      "28\n",
      "29\n",
      "30 = Fizz Buzz\n"
     ]
    }
   ],
   "source": [
    "print(\"Fizz Buzz Program:\")\n",
    "\n",
    "n1 = input(\"Enter the number: \")\n",
    "n = int(n1)\n",
    "\n",
    "for i in range(1, n + 1):\n",
    "    if i % 3 == 0 and i % 5 == 0:\n",
    "        print(str(i) + \" = Fizz Buzz\")\n",
    "    elif i % 3 == 0:\n",
    "        print(str(i) + \" = Fizz\")\n",
    "    elif i % 5 == 0:\n",
    "        print(str(i) + \" = Buzz\")\n",
    "    else:\n",
    "        print(i)\n"
   ]
  }
 ],
 "metadata": {
  "kernelspec": {
   "display_name": "Python 3 (ipykernel)",
   "language": "python",
   "name": "python3"
  },
  "language_info": {
   "codemirror_mode": {
    "name": "ipython",
    "version": 3
   },
   "file_extension": ".py",
   "mimetype": "text/x-python",
   "name": "python",
   "nbconvert_exporter": "python",
   "pygments_lexer": "ipython3",
   "version": "3.12.1"
  }
 },
 "nbformat": 4,
 "nbformat_minor": 5
}
