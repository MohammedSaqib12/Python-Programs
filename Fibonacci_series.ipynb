{
 "cells": [
  {
   "cell_type": "markdown",
   "id": "bf0ff5ba-acb4-417f-a231-53cd0bac7940",
   "metadata": {},
   "source": [
    "# Ex.No 2a: Fibonacci Series"
   ]
  },
  {
   "cell_type": "code",
   "execution_count": 3,
   "id": "85ab9e43-4996-4ffb-8b0a-acf85bb3a878",
   "metadata": {},
   "outputs": [
    {
     "name": "stdout",
     "output_type": "stream",
     "text": [
      "Fibonacci Series\n"
     ]
    },
    {
     "name": "stdin",
     "output_type": "stream",
     "text": [
      "Enter the number of terms:  20\n"
     ]
    },
    {
     "name": "stdout",
     "output_type": "stream",
     "text": [
      "0\n",
      "1\n",
      "1\n",
      "2\n",
      "3\n",
      "5\n",
      "8\n",
      "13\n",
      "21\n",
      "34\n",
      "55\n",
      "89\n",
      "144\n",
      "233\n",
      "377\n",
      "610\n",
      "987\n",
      "1597\n",
      "2584\n",
      "4181\n"
     ]
    }
   ],
   "source": [
    "print(\"Fibonacci Series\")\n",
    "n = int(input(\"Enter the number of terms: \"))\n",
    "\n",
    "f1 = 0\n",
    "f2 = 1\n",
    "print(f1)\n",
    "print(f2)\n",
    "for i in range(2, n):\n",
    "    f3 = f1 + f2\n",
    "    print(f3)\n",
    "    f1 = f2\n",
    "    f2 = f3"
   ]
  }
 ],
 "metadata": {
  "kernelspec": {
   "display_name": "Python 3 (ipykernel)",
   "language": "python",
   "name": "python3"
  },
  "language_info": {
   "codemirror_mode": {
    "name": "ipython",
    "version": 3
   },
   "file_extension": ".py",
   "mimetype": "text/x-python",
   "name": "python",
   "nbconvert_exporter": "python",
   "pygments_lexer": "ipython3",
   "version": "3.12.1"
  }
 },
 "nbformat": 4,
 "nbformat_minor": 5
}
