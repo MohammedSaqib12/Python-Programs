{
 "cells": [
  {
   "cell_type": "markdown",
   "id": "7e4d7569-f944-4143-bfbd-680498d9e41f",
   "metadata": {},
   "source": [
    "# Ex.No 4: Jumbled Word Game"
   ]
  },
  {
   "cell_type": "code",
   "execution_count": 4,
   "id": "4f2eeb38-fb13-4c8e-8897-7b3879d15f38",
   "metadata": {},
   "outputs": [
    {
     "name": "stdin",
     "output_type": "stream",
     "text": [
      "player 1, Please enter your name : saqib\n",
      "Player 2 , Please enter your name:  azhan\n"
     ]
    },
    {
     "name": "stdout",
     "output_type": "stream",
     "text": [
      "jumbled word is : tnciiondo\n",
      "saqib Your Turn.\n"
     ]
    },
    {
     "name": "stdin",
     "output_type": "stream",
     "text": [
      "what is in your mind?  condition\n"
     ]
    },
    {
     "name": "stdout",
     "output_type": "stream",
     "text": [
      "Your score is : 1\n",
      "jumbled word is : erlpya\n",
      "azhan Your turn.\n"
     ]
    },
    {
     "name": "stdin",
     "output_type": "stream",
     "text": [
      "what is in your mind?  player\n"
     ]
    },
    {
     "name": "stdout",
     "output_type": "stream",
     "text": [
      "Your Score is : 1\n"
     ]
    },
    {
     "name": "stdin",
     "output_type": "stream",
     "text": [
      "press 1 to continue and 0 to quit : 1\n"
     ]
    },
    {
     "name": "stdout",
     "output_type": "stream",
     "text": [
      "jumbled word is : ascteihmatm\n",
      "saqib Your Turn.\n"
     ]
    },
    {
     "name": "stdin",
     "output_type": "stream",
     "text": [
      "what is in your mind?  mathematics\n"
     ]
    },
    {
     "name": "stdout",
     "output_type": "stream",
     "text": [
      "Your score is : 2\n",
      "jumbled word is : mcsatamieht\n",
      "azhan Your turn.\n"
     ]
    },
    {
     "name": "stdin",
     "output_type": "stream",
     "text": [
      "what is in your mind?  mathematics\n"
     ]
    },
    {
     "name": "stdout",
     "output_type": "stream",
     "text": [
      "Your Score is : 2\n"
     ]
    },
    {
     "name": "stdin",
     "output_type": "stream",
     "text": [
      "press 1 to continue and 0 to quit : 1\n"
     ]
    },
    {
     "name": "stdout",
     "output_type": "stream",
     "text": [
      "jumbled word is : ncceise\n",
      "saqib Your Turn.\n"
     ]
    },
    {
     "name": "stdin",
     "output_type": "stream",
     "text": [
      "what is in your mind?  sehka\n"
     ]
    },
    {
     "name": "stdout",
     "output_type": "stream",
     "text": [
      "Better luck next time ..\n",
      "azhan Your turn.\n"
     ]
    },
    {
     "name": "stdin",
     "output_type": "stream",
     "text": [
      "what is in your mind?  science\n"
     ]
    },
    {
     "name": "stdout",
     "output_type": "stream",
     "text": [
      "Your Score is : 3\n"
     ]
    },
    {
     "name": "stdin",
     "output_type": "stream",
     "text": [
      "press 1 to continue and 0 to quit : 0\n"
     ]
    },
    {
     "name": "stdout",
     "output_type": "stream",
     "text": [
      "saqib Your score is : 2\n",
      "azhan Your score is : 3\n",
      "winner is : azhan\n",
      "Thanks for playing...\n"
     ]
    }
   ],
   "source": [
    "import random\n",
    " \n",
    "def choose():\n",
    "    words = ['rainbow', 'computer', 'science', 'programming',\n",
    "             'mathematics', 'player', 'condition', 'reverse',\n",
    "             'water', 'board', 'geeks']\n",
    " \n",
    "    pick = random.choice(words)\n",
    " \n",
    "    return pick\n",
    " \n",
    "def jumble(word):\n",
    "    random_word = random.sample(word, len(word))\n",
    "    jumbled = ''.join(random_word)\n",
    "    return jumbled\n",
    " \n",
    " \n",
    "def thank(p1n, p2n, p1, p2):\n",
    "    print(p1n, 'Your score is :', p1)\n",
    "    print(p2n, 'Your score is :', p2)\n",
    " \n",
    "    check_win(p1n, p2n, p1, p2)\n",
    " \n",
    "    print('Thanks for playing...')\n",
    " \n",
    " \n",
    "def check_win(player1, player2, p1score, p2score):\n",
    "    if p1score > p2score:\n",
    "        print(\"winner is :\", player1)\n",
    "    elif p2score > p1score:\n",
    "        print(\"winner is :\", player2)\n",
    "    else:\n",
    "        print(\"Draw..Well Played guys..\")\n",
    " \n",
    " \n",
    "def play():\n",
    "    p1name = input(\"player 1, Please enter your name :\")\n",
    "    p2name = input(\"Player 2 , Please enter your name: \")\n",
    " \n",
    "    pp1 = 0\n",
    "    pp2 = 0\n",
    " \n",
    "    turn = 0\n",
    " \n",
    "    while True:\n",
    " \n",
    "        picked_word = choose()\n",
    " \n",
    "        qn = jumble(picked_word)\n",
    "        print(\"jumbled word is :\", qn)\n",
    " \n",
    "        if turn % 2 == 0:\n",
    " \n",
    "            print(p1name, 'Your Turn.')\n",
    " \n",
    "            ans = input(\"what is in your mind? \")\n",
    "            if ans == picked_word:\n",
    " \n",
    "                pp1 += 1\n",
    " \n",
    "                print('Your score is :', pp1)\n",
    "                turn += 1\n",
    " \n",
    "            else:\n",
    "                print(\"Better luck next time ..\")\n",
    " \n",
    "                print(p2name, 'Your turn.')\n",
    " \n",
    "                ans = input('what is in your mind? ')\n",
    " \n",
    "                if ans == picked_word:\n",
    "                    pp2 += 1\n",
    "                    print(\"Your Score is :\", pp2)\n",
    " \n",
    "                else:\n",
    "                    print(\"Better luck next time...correct word is :\", picked_word)\n",
    " \n",
    "                c = int(input(\"press 1 to continue and 0 to quit :\"))\n",
    " \n",
    "                if c == 0:\n",
    "                    thank(p1name, p2name, pp1, pp2)\n",
    "                    break\n",
    " \n",
    "        else:\n",
    "            print(p2name, 'Your turn.')\n",
    "            ans = input('what is in your mind? ')\n",
    " \n",
    "            if ans == picked_word:\n",
    "                pp2 += 1\n",
    "                print(\"Your Score is :\", pp2)\n",
    "                turn += 1\n",
    " \n",
    "            else:\n",
    "                print(\"Better luck next time.. :\")\n",
    "                print(p1name, 'Your turn.')\n",
    "                ans = input('what is in your mind? ')\n",
    " \n",
    "                if ans == picked_word:\n",
    "                    pp1 += 1\n",
    "                    print(\"Your Score is :\", pp1)\n",
    " \n",
    "                else:\n",
    "                    print(\"Better luck next time...correct word is :\", picked_word)\n",
    "                    c = int(input(\"press 1 to continue and 0 to quit :\"))\n",
    " \n",
    "                    if c == 0:\n",
    "                        thank(p1name, p2name, pp1, pp2)\n",
    "                        break\n",
    " \n",
    "            c = int(input(\"press 1 to continue and 0 to quit :\"))\n",
    "            if c == 0:\n",
    "                thank(p1name, p2name, pp1, pp2)\n",
    "                break\n",
    " \n",
    " \n",
    "if __name__ == '__main__':\n",
    "    play()"
   ]
  }
 ],
 "metadata": {
  "kernelspec": {
   "display_name": "Python 3 (ipykernel)",
   "language": "python",
   "name": "python3"
  },
  "language_info": {
   "codemirror_mode": {
    "name": "ipython",
    "version": 3
   },
   "file_extension": ".py",
   "mimetype": "text/x-python",
   "name": "python",
   "nbconvert_exporter": "python",
   "pygments_lexer": "ipython3",
   "version": "3.12.1"
  }
 },
 "nbformat": 4,
 "nbformat_minor": 5
}
