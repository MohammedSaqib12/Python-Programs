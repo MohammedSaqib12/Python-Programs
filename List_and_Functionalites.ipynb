{
 "cells": [
  {
   "cell_type": "markdown",
   "id": "37e853b2-9d7b-4ea2-8e6e-8f09e72ff6ed",
   "metadata": {},
   "source": [
    "# Ex.No 6: List And Its Functionalities"
   ]
  },
  {
   "cell_type": "code",
   "execution_count": 1,
   "id": "463447b7-853f-4261-870c-67343a1f80f1",
   "metadata": {},
   "outputs": [
    {
     "name": "stdout",
     "output_type": "stream",
     "text": [
      "Integer List: [1, 2, 3, 4, 5]\n",
      "Float List: [1.1, 2.2, 3.3, 4.4, 5.5]\n",
      "Complex Number List: [(1+2j), (3+4j), (5+6j)]\n",
      "Boolean List: [True, False, True, False]\n",
      "Mixed Data Type List: [10, 20.5, 'Hello', True, (3+4j)]\n",
      "\n",
      "Minimum in Integer List: 1\n",
      "Maximum in Float List: 5.5\n",
      "\n",
      "Indexing in Complex List:\n",
      "Element at index 0: (1+2j)\n",
      "Element at index -1 (last element): (5+6j)\n",
      "\n",
      "Loop through Boolean List:\n",
      "True\n",
      "False\n",
      "True\n",
      "False\n",
      "\n",
      "Integer List after adding an element: [1, 2, 3, 4, 5, 6]\n",
      "Mixed List after removing 'Hello': [10, 20.5, True, (3+4j)]\n",
      "\n",
      "Joined List (Integer + Float): [1, 2, 3, 4, 5, 6, 1.1, 2.2, 3.3, 4.4, 5.5]\n"
     ]
    }
   ],
   "source": [
    "# 1. List of Integers\n",
    "int_list = [1, 2, 3, 4, 5]\n",
    "print(\"Integer List:\", int_list)\n",
    "\n",
    "# 2. List of Floats\n",
    "float_list = [1.1, 2.2, 3.3, 4.4, 5.5]\n",
    "print(\"Float List:\", float_list)\n",
    "\n",
    "# 3. List of Complex Numbers\n",
    "complex_list = [1+2j, 3+4j, 5+6j]\n",
    "print(\"Complex Number List:\", complex_list)\n",
    "\n",
    "# 4. List of Booleans\n",
    "bool_list = [True, False, True, False]\n",
    "print(\"Boolean List:\", bool_list)\n",
    "\n",
    "# 5. Mixed Data Type List\n",
    "mixed_list = [10, 20.5, \"Hello\", True, 3+4j]\n",
    "print(\"Mixed Data Type List:\", mixed_list)\n",
    "\n",
    "\n",
    "# 2. Finding minimum and maximum\n",
    "print(\"\\nMinimum in Integer List:\", min(int_list))\n",
    "print(\"Maximum in Float List:\", max(float_list))\n",
    "\n",
    "# 3. Indexing \n",
    "print(\"\\nIndexing in Complex List:\")\n",
    "print(\"Element at index 0:\", complex_list[0])\n",
    "print(\"Element at index -1 (last element):\", complex_list[-1])\n",
    "\n",
    "# 4. Use of loop to display elements in a list\n",
    "print(\"\\nLoop through Boolean List:\")\n",
    "for value in bool_list:\n",
    "    print(value)\n",
    "\n",
    "# Adding an element to the Integer List\n",
    "int_list.append(6)\n",
    "print(\"\\nInteger List after adding an element:\", int_list)\n",
    "\n",
    "# Removing an element from the Mixed Data Type List\n",
    "mixed_list.remove(\"Hello\")\n",
    "print(\"Mixed List after removing 'Hello':\", mixed_list)\n",
    "\n",
    "# Joining two lists\n",
    "joined_list = int_list + float_list\n",
    "print(\"\\nJoined List (Integer + Float):\", joined_list)\n"
   ]
  }
 ],
 "metadata": {
  "kernelspec": {
   "display_name": "Python 3 (ipykernel)",
   "language": "python",
   "name": "python3"
  },
  "language_info": {
   "codemirror_mode": {
    "name": "ipython",
    "version": 3
   },
   "file_extension": ".py",
   "mimetype": "text/x-python",
   "name": "python",
   "nbconvert_exporter": "python",
   "pygments_lexer": "ipython3",
   "version": "3.12.1"
  }
 },
 "nbformat": 4,
 "nbformat_minor": 5
}
