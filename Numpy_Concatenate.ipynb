{
 "cells": [
  {
   "cell_type": "code",
   "execution_count": 1,
   "id": "989b736b-31d6-4f19-9559-2bec5cd3687d",
   "metadata": {},
   "outputs": [
    {
     "name": "stdout",
     "output_type": "stream",
     "text": [
      "1D reshaped to 2D:\n",
      " [[1 2 3]]\n",
      "1D reshaped to 3D:\n",
      " [[[1 2 3]]]\n",
      "2D reshaped to 3D:\n",
      " [[[4 5 6]\n",
      "  [7 8 9]]]\n",
      "\n",
      "1D array reshaped to match 2D array shape for concatenation:\n",
      " [[1 2 3]]\n"
     ]
    }
   ],
   "source": [
    "import numpy as np\n",
    "\n",
    "# Original 1D array\n",
    "arr1_1d = np.array([1, 2, 3])\n",
    "\n",
    "# Reshaping 1D array to 2D (1 row, 3 columns)\n",
    "arr1_1d_to_2d = arr1_1d.reshape(1, -1)\n",
    "print(\"1D reshaped to 2D:\\n\", arr1_1d_to_2d)\n",
    "\n",
    "# Reshaping 1D array to 3D (1 depth, 1 row, 3 columns)\n",
    "arr1_1d_to_3d = arr1_1d.reshape(1, 1, -1)\n",
    "print(\"1D reshaped to 3D:\\n\", arr1_1d_to_3d)\n",
    "\n",
    "# Original 2D array\n",
    "arr2_2d = np.array([[4, 5, 6], [7, 8, 9]])\n",
    "\n",
    "# Reshaping 2D array to 3D (1 depth, 2 rows, 3 columns)\n",
    "arr2_2d_to_3d = arr2_2d.reshape(1, 2, -1)\n",
    "print(\"2D reshaped to 3D:\\n\", arr2_2d_to_3d)\n",
    "\n",
    "# Demonstration of reshaping a 2D array for concatenation\n",
    "# If we want to concatenate a 1D array with a 2D array, we first reshape the 1D array\n",
    "arr1_reshaped_for_concat = arr1_1d.reshape(1, -1)\n",
    "print(\"\\n1D array reshaped to match 2D array shape for concatenation:\\n\", arr1_reshaped_for_concat)\n"
   ]
  },
  {
   "cell_type": "code",
   "execution_count": 19,
   "id": "06bac7fc-59c5-43d1-8c6c-ff11da38cf35",
   "metadata": {},
   "outputs": [
    {
     "name": "stdout",
     "output_type": "stream",
     "text": [
      "1D with 1D: [1 2 3 4 5 6]\n",
      "1D with 2D:\n",
      " [[ 1  2  3]\n",
      " [ 7  8  9]\n",
      " [10 11 12]]\n",
      "2D with 3D:\n",
      " [[[25 26 27]\n",
      "  [28 29 30]]\n",
      "\n",
      " [[13 14 15]\n",
      "  [16 17 18]]\n",
      "\n",
      " [[19 20 21]\n",
      "  [22 23 24]]]\n"
     ]
    }
   ],
   "source": [
    "import numpy as np\n",
    "\n",
    "# Joining 1D with 1D array\n",
    "arr1_1d = np.array([1, 2, 3])\n",
    "arr2_1d = np.array([4, 5, 6])\n",
    "\n",
    "result_1d_1d = np.concatenate((arr1_1d, arr2_1d))\n",
    "print(\"1D with 1D:\", result_1d_1d)\n",
    "\n",
    "# Joining 1D with 2D array\n",
    "arr1_2d = np.array([\n",
    "    [7, 8, 9], \n",
    "    [10, 11, 12]\n",
    "])\n",
    "\n",
    "result_1d_2d = np.concatenate((arr1_1d.reshape(1, -1), arr1_2d), axis=0)\n",
    "print(\"1D with 2D:\\n\", result_1d_2d)\n",
    "\n",
    "# Joining 1D with 3D array\n",
    "arr1_3d = np.array([\n",
    "    [\n",
    "        [13, 14, 15], \n",
    "        [16, 17, 18]\n",
    "    ], \n",
    "    [\n",
    "        [19, 20, 21], \n",
    "        [22, 23, 24]\n",
    "    ]\n",
    "])\n",
    "\n",
    "# Joining 2D with 3D array\n",
    "arr2_2d = np.array([\n",
    "    [25, 26, 27], \n",
    "    [28, 29, 30]\n",
    "])\n",
    "\n",
    "result_2d_3d = np.concatenate((arr2_2d.reshape(1, 2, -1), arr1_3d), axis=0)\n",
    "print(\"2D with 3D:\\n\", result_2d_3d)\n"
   ]
  }
 ],
 "metadata": {
  "kernelspec": {
   "display_name": "Python 3 (ipykernel)",
   "language": "python",
   "name": "python3"
  },
  "language_info": {
   "codemirror_mode": {
    "name": "ipython",
    "version": 3
   },
   "file_extension": ".py",
   "mimetype": "text/x-python",
   "name": "python",
   "nbconvert_exporter": "python",
   "pygments_lexer": "ipython3",
   "version": "3.12.1"
  }
 },
 "nbformat": 4,
 "nbformat_minor": 5
}
