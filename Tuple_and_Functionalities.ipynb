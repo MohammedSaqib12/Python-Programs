{
 "cells": [
  {
   "cell_type": "markdown",
   "id": "8f4d8cbc-8c16-4633-84bf-9622c59ad8a0",
   "metadata": {},
   "source": [
    "# Ex.No 7: Tuple And Its Functionalities"
   ]
  },
  {
   "cell_type": "code",
   "execution_count": 2,
   "id": "4573fdc1-c9e8-4176-9f8d-0ec17c37e7b6",
   "metadata": {},
   "outputs": [
    {
     "name": "stdout",
     "output_type": "stream",
     "text": [
      "Integer Tuple: (1, 2, 3, 4, 5)\n",
      "Float Tuple: (1.1, 2.2, 3.3, 4.4, 5.5)\n",
      "Complex Number Tuple: ((1+2j), (3+4j), (5+6j))\n",
      "Boolean Tuple: (True, False, True, False)\n",
      "Mixed Data Type Tuple: (10, 20.5, 'Hello', False, (2+3j))\n",
      "\n",
      "Minimum value in Integer Tuple: 1\n",
      "Maximum value in Float Tuple: 5.5\n",
      "\n",
      "Indexing in Complex Tuple:\n",
      "Element at index 0: (1+2j)\n",
      "Element at index -1 (last element): (5+6j)\n",
      "\n",
      "Looping through Boolean Tuple:\n",
      "True\n",
      "False\n",
      "True\n",
      "False\n",
      "Integer Tuple after adding an element: (1, 2, 3, 4, 5, 6)\n",
      "Integer Tuple after removing an element: (1, 2, 4, 5, 6)\n",
      "Integer Tuple after changing an element: (1, 2, 10, 5, 6)\n",
      "\n",
      "Joined Tuple (Integer + Float): (1, 2, 10, 5, 6, 1.1, 2.2, 3.3, 4.4, 5.5)\n"
     ]
    }
   ],
   "source": [
    "# Integer Tuple\n",
    "int_tuple = (1, 2, 3, 4, 5)\n",
    "print(\"Integer Tuple:\", int_tuple)\n",
    "\n",
    "# Float Tuple\n",
    "float_tuple = (1.1, 2.2, 3.3, 4.4, 5.5)\n",
    "print(\"Float Tuple:\", float_tuple)\n",
    "\n",
    "# Complex Number Tuple\n",
    "complex_tuple = (1+2j, 3+4j, 5+6j)\n",
    "print(\"Complex Number Tuple:\", complex_tuple)\n",
    "\n",
    "# Boolean Tuple\n",
    "bool_tuple = (True, False, True, False)\n",
    "print(\"Boolean Tuple:\", bool_tuple)\n",
    "\n",
    "# Mixed Data Type Tuple\n",
    "mixed_tuple = (10, 20.5, \"Hello\", False, 2+3j)\n",
    "print(\"Mixed Data Type Tuple:\", mixed_tuple)\n",
    "\n",
    "# 2. Finding the Range (Min/Max)\n",
    "print(\"\\nMinimum value in Integer Tuple:\", min(int_tuple))\n",
    "print(\"Maximum value in Float Tuple:\", max(float_tuple))\n",
    "\n",
    "# 3. Indexing in Tuples\n",
    "print(\"\\nIndexing in Complex Tuple:\")\n",
    "print(\"Element at index 0:\", complex_tuple[0])\n",
    "print(\"Element at index -1 (last element):\", complex_tuple[-1])\n",
    "\n",
    "# 4. Use of Loop in the Tuple\n",
    "print(\"\\nLooping through Boolean Tuple:\")\n",
    "for value in bool_tuple:\n",
    "    print(value)\n",
    "\n",
    "# 5.1 Adding an element to a tuple\n",
    "int_list = list(int_tuple) \n",
    "int_list.append(6)         \n",
    "int_tuple = tuple(int_list)  \n",
    "print(\"Integer Tuple after adding an element:\", int_tuple)\n",
    "\n",
    "# 5.2 Removing an element from a tuple\n",
    "int_list = list(int_tuple)  # Convert tuple to list\n",
    "int_list.remove(3)          # Remove an element\n",
    "int_tuple = tuple(int_list)  # Convert back to tuple\n",
    "print(\"Integer Tuple after removing an element:\", int_tuple)\n",
    "\n",
    "# 5.3 Changing an element in the tuple \n",
    "int_list = list(int_tuple)  \n",
    "int_list[2] = 10            \n",
    "int_tuple = tuple(int_list)  \n",
    "print(\"Integer Tuple after changing an element:\", int_tuple)\n",
    "\n",
    "# 5.4 Joining Two Tuples\n",
    "joined_tuple = int_tuple + float_tuple\n",
    "print(\"\\nJoined Tuple (Integer + Float):\", joined_tuple)\n",
    "\n",
    "\n",
    "\n"
   ]
  }
 ],
 "metadata": {
  "kernelspec": {
   "display_name": "Python 3 (ipykernel)",
   "language": "python",
   "name": "python3"
  },
  "language_info": {
   "codemirror_mode": {
    "name": "ipython",
    "version": 3
   },
   "file_extension": ".py",
   "mimetype": "text/x-python",
   "name": "python",
   "nbconvert_exporter": "python",
   "pygments_lexer": "ipython3",
   "version": "3.12.1"
  }
 },
 "nbformat": 4,
 "nbformat_minor": 5
}
