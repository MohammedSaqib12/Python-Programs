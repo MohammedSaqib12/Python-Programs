import random

doors = [0] * 3
goatdoor = []
swap = 0  # Number of swap wins
dont_swap = 0  # Number of don't-swap wins
j = 0

while j < 10:
    doors = [0] * 3  # Reset doors
    goatdoor = []    # Reset goat doors list
    x = random.randint(0, 2)  # xth door will have the BMW
    doors[x] = "BMW"
    
    for i in range(3):
        if i == x:
            continue
        else:
            doors[i] = "Goat"
            goatdoor.append(i)
    
    choice = int(input("Enter your choice (0, 1, or 2): "))
    
    # Host opens a door with a goat that the player didn't pick
    door_open = random.choice(goatdoor)
    while door_open == choice:
        door_open = random.choice(goatdoor)
    
    print("Goat Door opened by host:", door_open)
    ch = input("Do you want to swap? (y/n): ")
    
    if ch == 'y':
        if doors[choice] == "Goat":
            print("Player wins by swapping!")
            swap += 1
        else:
            print("Player loses by swapping.")
    else:
        if doors[choice] == "Goat":
            print("Player loses by not swapping.")
        else:
            print("Player wins by not swapping!")
            dont_swap += 1
    
    j += 1

print("Number of swap wins:", swap)
print("Number of don't-swap wins:", dont_swap)
