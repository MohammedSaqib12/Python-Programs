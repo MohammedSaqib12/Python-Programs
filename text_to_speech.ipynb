{
 "cells": [
  {
   "cell_type": "code",
   "execution_count": 1,
   "id": "da675547-858c-4ae8-b6e8-c6cfa58090fe",
   "metadata": {},
   "outputs": [
    {
     "name": "stdout",
     "output_type": "stream",
     "text": [
      "Collecting SpeechRecognition\n",
      "  Obtaining dependency information for SpeechRecognition from https://files.pythonhosted.org/packages/e6/28/b5e6e769002e46a5edef16871884721d4b68da31dbd4509db6ea50f8b224/SpeechRecognition-3.10.4-py2.py3-none-any.whl.metadata\n",
      "  Downloading SpeechRecognition-3.10.4-py2.py3-none-any.whl.metadata (28 kB)\n",
      "Requirement already satisfied: requests>=2.26.0 in c:\\users\\lenovo\\appdata\\local\\programs\\python\\python312\\lib\\site-packages (from SpeechRecognition) (2.31.0)\n",
      "Requirement already satisfied: typing-extensions in c:\\users\\lenovo\\appdata\\local\\programs\\python\\python312\\lib\\site-packages (from SpeechRecognition) (4.12.2)\n",
      "Requirement already satisfied: charset-normalizer<4,>=2 in c:\\users\\lenovo\\appdata\\local\\programs\\python\\python312\\lib\\site-packages (from requests>=2.26.0->SpeechRecognition) (3.3.2)\n",
      "Requirement already satisfied: idna<4,>=2.5 in c:\\users\\lenovo\\appdata\\local\\programs\\python\\python312\\lib\\site-packages (from requests>=2.26.0->SpeechRecognition) (3.6)\n",
      "Requirement already satisfied: urllib3<3,>=1.21.1 in c:\\users\\lenovo\\appdata\\local\\programs\\python\\python312\\lib\\site-packages (from requests>=2.26.0->SpeechRecognition) (2.2.1)\n",
      "Requirement already satisfied: certifi>=2017.4.17 in c:\\users\\lenovo\\appdata\\local\\programs\\python\\python312\\lib\\site-packages (from requests>=2.26.0->SpeechRecognition) (2023.11.17)\n",
      "Downloading SpeechRecognition-3.10.4-py2.py3-none-any.whl (32.8 MB)\n",
      "   ---------------------------------------- 0.0/32.8 MB ? eta -:--:--\n",
      "   ---------------------------------------- 0.1/32.8 MB 1.7 MB/s eta 0:00:20\n",
      "   ---------------------------------------- 0.2/32.8 MB 2.1 MB/s eta 0:00:16\n",
      "   ---------------------------------------- 0.4/32.8 MB 3.0 MB/s eta 0:00:11\n",
      "    --------------------------------------- 0.6/32.8 MB 3.1 MB/s eta 0:00:11\n",
      "    --------------------------------------- 0.7/32.8 MB 3.3 MB/s eta 0:00:10\n",
      "   - -------------------------------------- 1.0/32.8 MB 3.6 MB/s eta 0:00:09\n",
      "   - -------------------------------------- 1.2/32.8 MB 3.7 MB/s eta 0:00:09\n",
      "   - -------------------------------------- 1.5/32.8 MB 4.0 MB/s eta 0:00:08\n",
      "   -- ------------------------------------- 1.8/32.8 MB 4.1 MB/s eta 0:00:08\n",
      "   -- ------------------------------------- 2.1/32.8 MB 4.2 MB/s eta 0:00:08\n",
      "   -- ------------------------------------- 2.4/32.8 MB 4.3 MB/s eta 0:00:08\n",
      "   --- ------------------------------------ 2.7/32.8 MB 4.4 MB/s eta 0:00:07\n",
      "   --- ------------------------------------ 2.9/32.8 MB 4.5 MB/s eta 0:00:07\n",
      "   ---- ----------------------------------- 3.4/32.8 MB 4.7 MB/s eta 0:00:07\n",
      "   ---- ----------------------------------- 3.8/32.8 MB 4.8 MB/s eta 0:00:07\n",
      "   ---- ----------------------------------- 4.0/32.8 MB 4.9 MB/s eta 0:00:06\n",
      "   ----- ---------------------------------- 4.6/32.8 MB 5.1 MB/s eta 0:00:06\n",
      "   ----- ---------------------------------- 4.7/32.8 MB 5.0 MB/s eta 0:00:06\n",
      "   ------ --------------------------------- 5.2/32.8 MB 5.2 MB/s eta 0:00:06\n",
      "   ------ --------------------------------- 5.6/32.8 MB 5.3 MB/s eta 0:00:06\n",
      "   ------- -------------------------------- 6.0/32.8 MB 5.4 MB/s eta 0:00:05\n",
      "   ------- -------------------------------- 6.3/32.8 MB 5.5 MB/s eta 0:00:05\n",
      "   -------- ------------------------------- 6.9/32.8 MB 5.6 MB/s eta 0:00:05\n",
      "   -------- ------------------------------- 7.4/32.8 MB 5.8 MB/s eta 0:00:05\n",
      "   --------- ------------------------------ 7.9/32.8 MB 5.8 MB/s eta 0:00:05\n",
      "   ---------- ----------------------------- 8.4/32.8 MB 6.0 MB/s eta 0:00:05\n",
      "   ---------- ----------------------------- 8.9/32.8 MB 6.1 MB/s eta 0:00:04\n",
      "   ----------- ---------------------------- 9.3/32.8 MB 6.2 MB/s eta 0:00:04\n",
      "   ----------- ---------------------------- 9.8/32.8 MB 6.2 MB/s eta 0:00:04\n",
      "   ------------ --------------------------- 10.3/32.8 MB 6.4 MB/s eta 0:00:04\n",
      "   ------------ --------------------------- 10.6/32.8 MB 6.5 MB/s eta 0:00:04\n",
      "   ------------- -------------------------- 11.1/32.8 MB 6.7 MB/s eta 0:00:04\n",
      "   -------------- ------------------------- 11.6/32.8 MB 7.0 MB/s eta 0:00:04\n",
      "   -------------- ------------------------- 12.1/32.8 MB 7.1 MB/s eta 0:00:03\n",
      "   --------------- ------------------------ 12.4/32.8 MB 7.2 MB/s eta 0:00:03\n",
      "   --------------- ------------------------ 12.7/32.8 MB 7.3 MB/s eta 0:00:03\n",
      "   ---------------- ----------------------- 13.2/32.8 MB 7.5 MB/s eta 0:00:03\n",
      "   ---------------- ----------------------- 13.6/32.8 MB 7.4 MB/s eta 0:00:03\n",
      "   ----------------- ---------------------- 14.1/32.8 MB 7.4 MB/s eta 0:00:03\n",
      "   ----------------- ---------------------- 14.4/32.8 MB 7.4 MB/s eta 0:00:03\n",
      "   ------------------ --------------------- 14.9/32.8 MB 7.5 MB/s eta 0:00:03\n",
      "   ------------------ --------------------- 15.5/32.8 MB 7.6 MB/s eta 0:00:03\n",
      "   ------------------- -------------------- 16.0/32.8 MB 7.6 MB/s eta 0:00:03\n",
      "   -------------------- ------------------- 16.5/32.8 MB 7.7 MB/s eta 0:00:03\n",
      "   -------------------- ------------------- 16.8/32.8 MB 7.5 MB/s eta 0:00:03\n",
      "   --------------------- ------------------ 17.3/32.8 MB 7.6 MB/s eta 0:00:03\n",
      "   --------------------- ------------------ 17.7/32.8 MB 7.5 MB/s eta 0:00:03\n",
      "   --------------------- ------------------ 18.0/32.8 MB 7.4 MB/s eta 0:00:02\n",
      "   ---------------------- ----------------- 18.4/32.8 MB 7.4 MB/s eta 0:00:02\n",
      "   ---------------------- ----------------- 18.9/32.8 MB 7.3 MB/s eta 0:00:02\n",
      "   ----------------------- ---------------- 19.4/32.8 MB 7.4 MB/s eta 0:00:02\n",
      "   ------------------------ --------------- 19.8/32.8 MB 7.3 MB/s eta 0:00:02\n",
      "   ------------------------ --------------- 20.1/32.8 MB 7.3 MB/s eta 0:00:02\n",
      "   ------------------------- -------------- 20.6/32.8 MB 7.2 MB/s eta 0:00:02\n",
      "   ------------------------- -------------- 20.9/32.8 MB 7.2 MB/s eta 0:00:02\n",
      "   -------------------------- ------------- 21.4/32.8 MB 7.2 MB/s eta 0:00:02\n",
      "   -------------------------- ------------- 22.0/32.8 MB 7.2 MB/s eta 0:00:02\n",
      "   --------------------------- ------------ 22.5/32.8 MB 7.2 MB/s eta 0:00:02\n",
      "   ---------------------------- ----------- 23.1/32.8 MB 7.3 MB/s eta 0:00:02\n",
      "   ---------------------------- ----------- 23.6/32.8 MB 7.4 MB/s eta 0:00:02\n",
      "   ----------------------------- ---------- 24.0/32.8 MB 7.4 MB/s eta 0:00:02\n",
      "   ----------------------------- ---------- 24.4/32.8 MB 7.4 MB/s eta 0:00:02\n",
      "   ------------------------------ --------- 24.8/32.8 MB 7.3 MB/s eta 0:00:02\n",
      "   ------------------------------ --------- 25.3/32.8 MB 7.2 MB/s eta 0:00:02\n",
      "   ------------------------------- -------- 25.8/32.8 MB 7.3 MB/s eta 0:00:01\n",
      "   -------------------------------- ------- 26.5/32.8 MB 7.3 MB/s eta 0:00:01\n",
      "   -------------------------------- ------- 27.0/32.8 MB 7.3 MB/s eta 0:00:01\n",
      "   --------------------------------- ------ 27.3/32.8 MB 7.4 MB/s eta 0:00:01\n",
      "   --------------------------------- ------ 27.6/32.8 MB 7.3 MB/s eta 0:00:01\n",
      "   ---------------------------------- ----- 28.4/32.8 MB 7.3 MB/s eta 0:00:01\n",
      "   ----------------------------------- ---- 28.8/32.8 MB 7.4 MB/s eta 0:00:01\n",
      "   ----------------------------------- ---- 29.2/32.8 MB 7.4 MB/s eta 0:00:01\n",
      "   ------------------------------------ --- 29.7/32.8 MB 7.4 MB/s eta 0:00:01\n",
      "   ------------------------------------ --- 30.0/32.8 MB 7.2 MB/s eta 0:00:01\n",
      "   ------------------------------------- -- 30.7/32.8 MB 7.4 MB/s eta 0:00:01\n",
      "   ------------------------------------- -- 31.1/32.8 MB 7.5 MB/s eta 0:00:01\n",
      "   -------------------------------------- - 31.6/32.8 MB 7.5 MB/s eta 0:00:01\n",
      "   -------------------------------------- - 32.0/32.8 MB 7.4 MB/s eta 0:00:01\n",
      "   ---------------------------------------  32.4/32.8 MB 7.4 MB/s eta 0:00:01\n",
      "   ---------------------------------------  32.8/32.8 MB 7.5 MB/s eta 0:00:01\n",
      "   ---------------------------------------  32.8/32.8 MB 7.5 MB/s eta 0:00:01\n",
      "   ---------------------------------------  32.8/32.8 MB 7.5 MB/s eta 0:00:01\n",
      "   ---------------------------------------  32.8/32.8 MB 7.5 MB/s eta 0:00:01\n",
      "   ---------------------------------------- 32.8/32.8 MB 6.1 MB/s eta 0:00:00\n",
      "Installing collected packages: SpeechRecognition\n",
      "Successfully installed SpeechRecognition-3.10.4\n",
      "Note: you may need to restart the kernel to use updated packages.\n"
     ]
    },
    {
     "name": "stderr",
     "output_type": "stream",
     "text": [
      "\n",
      "[notice] A new release of pip is available: 23.2.1 -> 24.2\n",
      "[notice] To update, run: python.exe -m pip install --upgrade pip\n"
     ]
    }
   ],
   "source": [
    "pip install SpeechRecognition"
   ]
  },
  {
   "cell_type": "code",
   "execution_count": 12,
   "id": "8f63eb63-07d6-49f8-b087-d7fc9eb74102",
   "metadata": {},
   "outputs": [
    {
     "name": "stdout",
     "output_type": "stream",
     "text": [
      "Audio file contains: hello this is a simple demonstration of text to speech conversion\n"
     ]
    }
   ],
   "source": [
    "import speech_recognition as sr\n",
    "\n",
    "# Specify the audio file\n",
    "AUDIO_FILE = \"SpeechText.wav\"\n",
    "\n",
    "# Initialize Recognizer\n",
    "r = sr.Recognizer()\n",
    "\n",
    "# Use the audio file as the source\n",
    "with sr.AudioFile(AUDIO_FILE) as source:\n",
    "    audio = r.record(source)  # Read the entire audio file\n",
    "\n",
    "# Recognize the audio and handle exceptions\n",
    "try:\n",
    "    print(\"Audio file contains: \" + r.recognize_google(audio))\n",
    "except sr.UnknownValueError:\n",
    "    print(\"Google Speech Recognition could not understand the audio.\")\n",
    "except sr.RequestError:\n",
    "    print(\"Couldn't get the result from Google Speech Recognition.\")\n"
   ]
  }
 ],
 "metadata": {
  "kernelspec": {
   "display_name": "Python 3 (ipykernel)",
   "language": "python",
   "name": "python3"
  },
  "language_info": {
   "codemirror_mode": {
    "name": "ipython",
    "version": 3
   },
   "file_extension": ".py",
   "mimetype": "text/x-python",
   "name": "python",
   "nbconvert_exporter": "python",
   "pygments_lexer": "ipython3",
   "version": "3.12.1"
  }
 },
 "nbformat": 4,
 "nbformat_minor": 5
}
